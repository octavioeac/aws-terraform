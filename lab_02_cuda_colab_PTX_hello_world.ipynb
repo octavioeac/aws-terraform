{
  "nbformat": 4,
  "nbformat_minor": 0,
  "metadata": {
    "colab": {
      "provenance": [],
      "authorship_tag": "ABX9TyO3DE6fRLMb6jlFdrPXVLN+",
      "include_colab_link": true
    },
    "kernelspec": {
      "name": "python3",
      "display_name": "Python 3"
    },
    "language_info": {
      "name": "python"
    }
  },
  "cells": [
    {
      "cell_type": "markdown",
      "metadata": {
        "id": "view-in-github",
        "colab_type": "text"
      },
      "source": [
        "<a href=\"https://colab.research.google.com/github/octavioeac/deep-learning-gpu-benchmarks/blob/feature%2Fcuda-experiments/lab_02_cuda_colab_PTX_hello_world.ipynb\" target=\"_parent\"><img src=\"https://colab.research.google.com/assets/colab-badge.svg\" alt=\"Open In Colab\"/></a>"
      ]
    },
    {
      "cell_type": "code",
      "execution_count": null,
      "metadata": {
        "id": "P8596V8lfiW5"
      },
      "outputs": [],
      "source": []
    }
  ]
}